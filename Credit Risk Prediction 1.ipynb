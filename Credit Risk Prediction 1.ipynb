{
 "cells": [
  {
   "cell_type": "markdown",
   "metadata": {},
   "source": [
    "\n",
    "# HELOC Risk Prediction\n"
   ]
  },
  {
   "cell_type": "markdown",
   "metadata": {},
   "source": [
    "### Introduction\n",
    "\n",
    "This project aims at developing a predictive model and a decision support system (DSS) that evaluates the risk of Home Equity Line of Credit (HELOC) applications. \n",
    "\n",
    "I was assigned with a real-world financial dataset from FICO.The 23 predictor variables are either quantitative or categorical. The target variable that I am going to predict is a binary variable called RiskPerformance. The value “Bad” means that a consumer was 90 days past due or worse at least once over a period of 24 months from when the credit account was opened. The value “Good” indicates that they have made their payments without ever being more than 90 days overdue. "
   ]
  },
  {
   "cell_type": "markdown",
   "metadata": {},
   "source": [
    "### Import Library"
   ]
  },
  {
   "cell_type": "code",
   "execution_count": 27,
   "metadata": {},
   "outputs": [],
   "source": [
    "from sklearn.model_selection import train_test_split\n",
    "from sklearn.preprocessing import MinMaxScaler,StandardScaler\n",
    "from sklearn.model_selection import GridSearchCV\n",
    "from sklearn.svm import SVC\n",
    "from lightgbm import LGBMClassifier\n",
    "import numpy as np\n",
    "import pandas as pd\n",
    "import matplotlib.pyplot as plt\n",
    "import warnings\n",
    "warnings.filterwarnings('ignore')\n",
    "from sklearn.impute import SimpleImputer\n",
    "from sklearn.preprocessing import OneHotEncoder\n",
    "from sklearn.metrics import accuracy_score,roc_curve, auc, roc_auc_score"
   ]
  },
  {
   "cell_type": "markdown",
   "metadata": {},
   "source": [
    "### Load the data "
   ]
  },
  {
   "cell_type": "code",
   "execution_count": 28,
   "metadata": {},
   "outputs": [
    {
     "name": "stdout",
     "output_type": "stream",
     "text": [
      "<class 'pandas.core.frame.DataFrame'>\n",
      "RangeIndex: 10459 entries, 0 to 10458\n",
      "Data columns (total 24 columns):\n",
      " #   Column                              Non-Null Count  Dtype \n",
      "---  ------                              --------------  ----- \n",
      " 0   RiskPerformance                     10459 non-null  object\n",
      " 1   ExternalRiskEstimate                10459 non-null  int64 \n",
      " 2   MSinceOldestTradeOpen               10459 non-null  int64 \n",
      " 3   MSinceMostRecentTradeOpen           10459 non-null  int64 \n",
      " 4   AverageMInFile                      10459 non-null  int64 \n",
      " 5   NumSatisfactoryTrades               10459 non-null  int64 \n",
      " 6   NumTrades60Ever2DerogPubRec         10459 non-null  int64 \n",
      " 7   NumTrades90Ever2DerogPubRec         10459 non-null  int64 \n",
      " 8   PercentTradesNeverDelq              10459 non-null  int64 \n",
      " 9   MSinceMostRecentDelq                10459 non-null  int64 \n",
      " 10  MaxDelq2PublicRecLast12M            10459 non-null  int64 \n",
      " 11  MaxDelqEver                         10459 non-null  int64 \n",
      " 12  NumTotalTrades                      10459 non-null  int64 \n",
      " 13  NumTradesOpeninLast12M              10459 non-null  int64 \n",
      " 14  PercentInstallTrades                10459 non-null  int64 \n",
      " 15  MSinceMostRecentInqexcl7days        10459 non-null  int64 \n",
      " 16  NumInqLast6M                        10459 non-null  int64 \n",
      " 17  NumInqLast6Mexcl7days               10459 non-null  int64 \n",
      " 18  NetFractionRevolvingBurden          10459 non-null  int64 \n",
      " 19  NetFractionInstallBurden            10459 non-null  int64 \n",
      " 20  NumRevolvingTradesWBalance          10459 non-null  int64 \n",
      " 21  NumInstallTradesWBalance            10459 non-null  int64 \n",
      " 22  NumBank2NatlTradesWHighUtilization  10459 non-null  int64 \n",
      " 23  PercentTradesWBalance               10459 non-null  int64 \n",
      "dtypes: int64(23), object(1)\n",
      "memory usage: 1.9+ MB\n"
     ]
    }
   ],
   "source": [
    "heloc = pd.read_csv('heloc_dataset_v1.csv')\n",
    "heloc.info()"
   ]
  },
  {
   "cell_type": "code",
   "execution_count": 29,
   "metadata": {},
   "outputs": [
    {
     "data": {
      "text/html": [
       "<div>\n",
       "<style scoped>\n",
       "    .dataframe tbody tr th:only-of-type {\n",
       "        vertical-align: middle;\n",
       "    }\n",
       "\n",
       "    .dataframe tbody tr th {\n",
       "        vertical-align: top;\n",
       "    }\n",
       "\n",
       "    .dataframe thead th {\n",
       "        text-align: right;\n",
       "    }\n",
       "</style>\n",
       "<table border=\"1\" class=\"dataframe\">\n",
       "  <thead>\n",
       "    <tr style=\"text-align: right;\">\n",
       "      <th></th>\n",
       "      <th>RiskPerformance</th>\n",
       "      <th>ExternalRiskEstimate</th>\n",
       "      <th>MSinceOldestTradeOpen</th>\n",
       "      <th>MSinceMostRecentTradeOpen</th>\n",
       "      <th>AverageMInFile</th>\n",
       "      <th>NumSatisfactoryTrades</th>\n",
       "      <th>NumTrades60Ever2DerogPubRec</th>\n",
       "      <th>NumTrades90Ever2DerogPubRec</th>\n",
       "      <th>PercentTradesNeverDelq</th>\n",
       "      <th>MSinceMostRecentDelq</th>\n",
       "      <th>...</th>\n",
       "      <th>PercentInstallTrades</th>\n",
       "      <th>MSinceMostRecentInqexcl7days</th>\n",
       "      <th>NumInqLast6M</th>\n",
       "      <th>NumInqLast6Mexcl7days</th>\n",
       "      <th>NetFractionRevolvingBurden</th>\n",
       "      <th>NetFractionInstallBurden</th>\n",
       "      <th>NumRevolvingTradesWBalance</th>\n",
       "      <th>NumInstallTradesWBalance</th>\n",
       "      <th>NumBank2NatlTradesWHighUtilization</th>\n",
       "      <th>PercentTradesWBalance</th>\n",
       "    </tr>\n",
       "  </thead>\n",
       "  <tbody>\n",
       "    <tr>\n",
       "      <th>0</th>\n",
       "      <td>Bad</td>\n",
       "      <td>55</td>\n",
       "      <td>144</td>\n",
       "      <td>4</td>\n",
       "      <td>84</td>\n",
       "      <td>20</td>\n",
       "      <td>3</td>\n",
       "      <td>0</td>\n",
       "      <td>83</td>\n",
       "      <td>2</td>\n",
       "      <td>...</td>\n",
       "      <td>43</td>\n",
       "      <td>0</td>\n",
       "      <td>0</td>\n",
       "      <td>0</td>\n",
       "      <td>33</td>\n",
       "      <td>-8</td>\n",
       "      <td>8</td>\n",
       "      <td>1</td>\n",
       "      <td>1</td>\n",
       "      <td>69</td>\n",
       "    </tr>\n",
       "    <tr>\n",
       "      <th>1</th>\n",
       "      <td>Bad</td>\n",
       "      <td>61</td>\n",
       "      <td>58</td>\n",
       "      <td>15</td>\n",
       "      <td>41</td>\n",
       "      <td>2</td>\n",
       "      <td>4</td>\n",
       "      <td>4</td>\n",
       "      <td>100</td>\n",
       "      <td>-7</td>\n",
       "      <td>...</td>\n",
       "      <td>67</td>\n",
       "      <td>0</td>\n",
       "      <td>0</td>\n",
       "      <td>0</td>\n",
       "      <td>0</td>\n",
       "      <td>-8</td>\n",
       "      <td>0</td>\n",
       "      <td>-8</td>\n",
       "      <td>-8</td>\n",
       "      <td>0</td>\n",
       "    </tr>\n",
       "    <tr>\n",
       "      <th>2</th>\n",
       "      <td>Bad</td>\n",
       "      <td>67</td>\n",
       "      <td>66</td>\n",
       "      <td>5</td>\n",
       "      <td>24</td>\n",
       "      <td>9</td>\n",
       "      <td>0</td>\n",
       "      <td>0</td>\n",
       "      <td>100</td>\n",
       "      <td>-7</td>\n",
       "      <td>...</td>\n",
       "      <td>44</td>\n",
       "      <td>0</td>\n",
       "      <td>4</td>\n",
       "      <td>4</td>\n",
       "      <td>53</td>\n",
       "      <td>66</td>\n",
       "      <td>4</td>\n",
       "      <td>2</td>\n",
       "      <td>1</td>\n",
       "      <td>86</td>\n",
       "    </tr>\n",
       "    <tr>\n",
       "      <th>3</th>\n",
       "      <td>Bad</td>\n",
       "      <td>66</td>\n",
       "      <td>169</td>\n",
       "      <td>1</td>\n",
       "      <td>73</td>\n",
       "      <td>28</td>\n",
       "      <td>1</td>\n",
       "      <td>1</td>\n",
       "      <td>93</td>\n",
       "      <td>76</td>\n",
       "      <td>...</td>\n",
       "      <td>57</td>\n",
       "      <td>0</td>\n",
       "      <td>5</td>\n",
       "      <td>4</td>\n",
       "      <td>72</td>\n",
       "      <td>83</td>\n",
       "      <td>6</td>\n",
       "      <td>4</td>\n",
       "      <td>3</td>\n",
       "      <td>91</td>\n",
       "    </tr>\n",
       "    <tr>\n",
       "      <th>4</th>\n",
       "      <td>Bad</td>\n",
       "      <td>81</td>\n",
       "      <td>333</td>\n",
       "      <td>27</td>\n",
       "      <td>132</td>\n",
       "      <td>12</td>\n",
       "      <td>0</td>\n",
       "      <td>0</td>\n",
       "      <td>100</td>\n",
       "      <td>-7</td>\n",
       "      <td>...</td>\n",
       "      <td>25</td>\n",
       "      <td>0</td>\n",
       "      <td>1</td>\n",
       "      <td>1</td>\n",
       "      <td>51</td>\n",
       "      <td>89</td>\n",
       "      <td>3</td>\n",
       "      <td>1</td>\n",
       "      <td>0</td>\n",
       "      <td>80</td>\n",
       "    </tr>\n",
       "  </tbody>\n",
       "</table>\n",
       "<p>5 rows × 24 columns</p>\n",
       "</div>"
      ],
      "text/plain": [
       "  RiskPerformance  ExternalRiskEstimate  MSinceOldestTradeOpen  \\\n",
       "0             Bad                    55                    144   \n",
       "1             Bad                    61                     58   \n",
       "2             Bad                    67                     66   \n",
       "3             Bad                    66                    169   \n",
       "4             Bad                    81                    333   \n",
       "\n",
       "   MSinceMostRecentTradeOpen  AverageMInFile  NumSatisfactoryTrades  \\\n",
       "0                          4              84                     20   \n",
       "1                         15              41                      2   \n",
       "2                          5              24                      9   \n",
       "3                          1              73                     28   \n",
       "4                         27             132                     12   \n",
       "\n",
       "   NumTrades60Ever2DerogPubRec  NumTrades90Ever2DerogPubRec  \\\n",
       "0                            3                            0   \n",
       "1                            4                            4   \n",
       "2                            0                            0   \n",
       "3                            1                            1   \n",
       "4                            0                            0   \n",
       "\n",
       "   PercentTradesNeverDelq  MSinceMostRecentDelq  ...  PercentInstallTrades  \\\n",
       "0                      83                     2  ...                    43   \n",
       "1                     100                    -7  ...                    67   \n",
       "2                     100                    -7  ...                    44   \n",
       "3                      93                    76  ...                    57   \n",
       "4                     100                    -7  ...                    25   \n",
       "\n",
       "   MSinceMostRecentInqexcl7days  NumInqLast6M  NumInqLast6Mexcl7days  \\\n",
       "0                             0             0                      0   \n",
       "1                             0             0                      0   \n",
       "2                             0             4                      4   \n",
       "3                             0             5                      4   \n",
       "4                             0             1                      1   \n",
       "\n",
       "   NetFractionRevolvingBurden  NetFractionInstallBurden  \\\n",
       "0                          33                        -8   \n",
       "1                           0                        -8   \n",
       "2                          53                        66   \n",
       "3                          72                        83   \n",
       "4                          51                        89   \n",
       "\n",
       "   NumRevolvingTradesWBalance  NumInstallTradesWBalance  \\\n",
       "0                           8                         1   \n",
       "1                           0                        -8   \n",
       "2                           4                         2   \n",
       "3                           6                         4   \n",
       "4                           3                         1   \n",
       "\n",
       "   NumBank2NatlTradesWHighUtilization  PercentTradesWBalance  \n",
       "0                                   1                     69  \n",
       "1                                  -8                      0  \n",
       "2                                   1                     86  \n",
       "3                                   3                     91  \n",
       "4                                   0                     80  \n",
       "\n",
       "[5 rows x 24 columns]"
      ]
     },
     "execution_count": 29,
     "metadata": {},
     "output_type": "execute_result"
    }
   ],
   "source": [
    "heloc.head()"
   ]
  },
  {
   "cell_type": "code",
   "execution_count": 30,
   "metadata": {},
   "outputs": [
    {
     "data": {
      "text/plain": [
       "Index(['RiskPerformance', 'ExternalRiskEstimate', 'MSinceOldestTradeOpen',\n",
       "       'MSinceMostRecentTradeOpen', 'AverageMInFile', 'NumSatisfactoryTrades',\n",
       "       'NumTrades60Ever2DerogPubRec', 'NumTrades90Ever2DerogPubRec',\n",
       "       'PercentTradesNeverDelq', 'MSinceMostRecentDelq',\n",
       "       'MaxDelq2PublicRecLast12M', 'MaxDelqEver', 'NumTotalTrades',\n",
       "       'NumTradesOpeninLast12M', 'PercentInstallTrades',\n",
       "       'MSinceMostRecentInqexcl7days', 'NumInqLast6M', 'NumInqLast6Mexcl7days',\n",
       "       'NetFractionRevolvingBurden', 'NetFractionInstallBurden',\n",
       "       'NumRevolvingTradesWBalance', 'NumInstallTradesWBalance',\n",
       "       'NumBank2NatlTradesWHighUtilization', 'PercentTradesWBalance'],\n",
       "      dtype='object')"
      ]
     },
     "execution_count": 30,
     "metadata": {},
     "output_type": "execute_result"
    }
   ],
   "source": [
    "heloc.columns"
   ]
  },
  {
   "cell_type": "markdown",
   "metadata": {},
   "source": [
    "### Data Cleaning and Data Preprocessing"
   ]
  },
  {
   "cell_type": "markdown",
   "metadata": {},
   "source": [
    "#### Dealing with missing values and categorical variables"
   ]
  },
  {
   "cell_type": "markdown",
   "metadata": {},
   "source": [
    "The target variable to predict is the RiskPerformance. The original data consists of two values: good and bad. RiskPeformance is factorized to 0 and 1. 0 represents bad and 1 represents good."
   ]
  },
  {
   "cell_type": "code",
   "execution_count": 31,
   "metadata": {},
   "outputs": [],
   "source": [
    "heloc['RiskPerformance']=pd.factorize(heloc['RiskPerformance'])[0]"
   ]
  },
  {
   "cell_type": "markdown",
   "metadata": {},
   "source": [
    "split X and y"
   ]
  },
  {
   "cell_type": "code",
   "execution_count": 32,
   "metadata": {},
   "outputs": [],
   "source": [
    "X = heloc.drop([\"RiskPerformance\"], axis=1)\n",
    "y = heloc[\"RiskPerformance\"]"
   ]
  },
  {
   "cell_type": "markdown",
   "metadata": {},
   "source": [
    "convert MaxDelq2PublicRecLast12M and MaxDelqEver into categoricla variables using get_dummies"
   ]
  },
  {
   "cell_type": "code",
   "execution_count": 33,
   "metadata": {},
   "outputs": [],
   "source": [
    "categorical1 = pd.get_dummies(X['MaxDelq2PublicRecLast12M'],prefix='MaxDelq2PublicRecLast12M')\n",
    "categorical2 = pd.get_dummies(X['MaxDelqEver'],prefix='MaxDelqEver')"
   ]
  },
  {
   "cell_type": "code",
   "execution_count": 34,
   "metadata": {},
   "outputs": [],
   "source": [
    "X.drop(['MaxDelq2PublicRecLast12M', 'MaxDelqEver'], axis=1, inplace=True)"
   ]
  },
  {
   "cell_type": "markdown",
   "metadata": {},
   "source": [
    "-7,-8,-9 that represent missing values for different reasons are converted into binary variables.replace these negative values with the mode value of each variable."
   ]
  },
  {
   "cell_type": "code",
   "execution_count": 35,
   "metadata": {},
   "outputs": [],
   "source": [
    "def get_special(data, col):\n",
    "  \n",
    "   data[col + '_-7'] = data[col].apply(lambda row:int(row==-7))\n",
    "   data[col + '_-8'] = data[col].apply(lambda row:int(row==-8))\n",
    "   data[col + '_-9'] = data[col].apply(lambda row:int(row==-9))\n",
    "\n",
    "for col in X.columns:\n",
    "    get_special(X, col)\n",
    "    \n",
    "X[X < 0] = np.nan"
   ]
  },
  {
   "cell_type": "code",
   "execution_count": 36,
   "metadata": {},
   "outputs": [],
   "source": [
    "imputer = SimpleImputer(strategy=\"most_frequent\")\n",
    "for i in range(0,23):\n",
    "    X.iloc[:, [i]] = imputer.fit_transform(X.iloc[:, [i]])"
   ]
  },
  {
   "cell_type": "code",
   "execution_count": 37,
   "metadata": {},
   "outputs": [],
   "source": [
    "X = pd.concat([X, categorical1,categorical2], axis=1)"
   ]
  },
  {
   "cell_type": "markdown",
   "metadata": {},
   "source": [
    "#### Visualization"
   ]
  },
  {
   "cell_type": "code",
   "execution_count": 39,
   "metadata": {},
   "outputs": [
    {
     "data": {
      "text/plain": [
       "array([[<matplotlib.axes._subplots.AxesSubplot object at 0x7fddda4ca790>,\n",
       "        <matplotlib.axes._subplots.AxesSubplot object at 0x7fddda513c40>,\n",
       "        <matplotlib.axes._subplots.AxesSubplot object at 0x7fddda547130>,\n",
       "        <matplotlib.axes._subplots.AxesSubplot object at 0x7fddda570580>,\n",
       "        <matplotlib.axes._subplots.AxesSubplot object at 0x7fddda5989d0>],\n",
       "       [<matplotlib.axes._subplots.AxesSubplot object at 0x7fddda5c4d60>,\n",
       "        <matplotlib.axes._subplots.AxesSubplot object at 0x7fddda5c4e50>,\n",
       "        <matplotlib.axes._subplots.AxesSubplot object at 0x7fddda5fa340>,\n",
       "        <matplotlib.axes._subplots.AxesSubplot object at 0x7fddda651b50>,\n",
       "        <matplotlib.axes._subplots.AxesSubplot object at 0x7fdddaa68fa0>],\n",
       "       [<matplotlib.axes._subplots.AxesSubplot object at 0x7fdddb122460>,\n",
       "        <matplotlib.axes._subplots.AxesSubplot object at 0x7fdddb14e8b0>,\n",
       "        <matplotlib.axes._subplots.AxesSubplot object at 0x7fdddb17bd00>,\n",
       "        <matplotlib.axes._subplots.AxesSubplot object at 0x7fdddb1b4190>,\n",
       "        <matplotlib.axes._subplots.AxesSubplot object at 0x7fdddb1df5e0>],\n",
       "       [<matplotlib.axes._subplots.AxesSubplot object at 0x7fdddb20aa60>,\n",
       "        <matplotlib.axes._subplots.AxesSubplot object at 0x7fdddb238ee0>,\n",
       "        <matplotlib.axes._subplots.AxesSubplot object at 0x7fdddb270370>,\n",
       "        <matplotlib.axes._subplots.AxesSubplot object at 0x7fdddb29d7c0>,\n",
       "        <matplotlib.axes._subplots.AxesSubplot object at 0x7fdddb2c8c10>],\n",
       "       [<matplotlib.axes._subplots.AxesSubplot object at 0x7fdddb2f5100>,\n",
       "        <matplotlib.axes._subplots.AxesSubplot object at 0x7fdddb32c550>,\n",
       "        <matplotlib.axes._subplots.AxesSubplot object at 0x7fdddb3579a0>,\n",
       "        <matplotlib.axes._subplots.AxesSubplot object at 0x7fdddb385d90>,\n",
       "        <matplotlib.axes._subplots.AxesSubplot object at 0x7fdddb3b13d0>]],\n",
       "      dtype=object)"
      ]
     },
     "execution_count": 39,
     "metadata": {},
     "output_type": "execute_result"
    },
    {
     "data": {
      "image/png": "[encoded data removed]",
      "text/plain": [
       "<Figure size 1440x1080 with 25 Axes>"
      ]
     },
     "metadata": {
      "needs_background": "light"
     },
     "output_type": "display_data"
    }
   ],
   "source": [
    "X.iloc[:,0:23].hist(bins=50, figsize=(20,15))"
   ]
  },
  {
   "cell_type": "markdown",
   "metadata": {},
   "source": [
    "From the charts above, we could see measurement unit of each feature of the system are different.Thus,we need to standardize features using standard scaler for some machine learning models that are sensitive to the scale of the number."
   ]
  },
  {
   "cell_type": "markdown",
   "metadata": {},
   "source": [
    "### Building and Tuning Model"
   ]
  },
  {
   "cell_type": "code",
   "execution_count": 40,
   "metadata": {},
   "outputs": [],
   "source": [
    "from sklearn.pipeline import make_pipeline\n",
    "from sklearn.preprocessing import StandardScaler\n",
    "from sklearn.linear_model import LogisticRegression\n",
    "from sklearn.ensemble import RandomForestClassifier, GradientBoostingClassifier\n",
    "from sklearn.discriminant_analysis import LinearDiscriminantAnalysis\n",
    "from sklearn import tree  \n",
    "from sklearn import neighbors\n",
    "from sklearn.svm import SVC\n",
    "from sklearn.model_selection import GridSearchCV"
   ]
  },
  {
   "cell_type": "code",
   "execution_count": 41,
   "metadata": {},
   "outputs": [],
   "source": [
    "X_train, X_test, y_train, y_test = train_test_split(X, y, test_size=0.2, random_state=1)"
   ]
  },
  {
   "cell_type": "code",
   "execution_count": 42,
   "metadata": {},
   "outputs": [],
   "source": [
    "model_names = ['LR','LDA','SVM','KNN','DT','RF','GB','LGB']\n",
    "\n",
    "\n",
    "param_grid_lr = [{'C':[0.01,0.1,1],'random_state':[1]}]\n",
    "param_grid_dt =[{ 'max_features':range(1,20),'max_depth':range(1,50),'random_state':[1]}]\n",
    "param_grid_rf = [{ 'n_estimators':[50, 100,150,200],'max_features':[0.2, 0.3, 0.5, 0.8], 'bootstrap':[True],'random_state':[1]}]\n",
    "param_grid_gb= [{ 'n_estimators': [25, 50, 80, 100, 200],\n",
    "                 'learning_rate': [.05, .1, .2,.5,1], \n",
    "                 'max_depth': [1,3,5],\n",
    "                 'random_state':[1]}]\n",
    "param_grid_lda = [{}]\n",
    "param_grid_knn =[{},{'n_neighbors':[1,2,3,4,5]}]  \n",
    "param_grid_lgb=[{'learning_rate': [0.001,0.003,0.01,0.05,0.051, 0.052, 0.055],'objective':['binary'],'metric':['binary_logloss'],'boosting_type':['goss'],'max_depth':[5],'num_leaves':[10]}]\n",
    "param_grid_svm=[{'kernel':['linear', 'rbf'],'C': [0.1,0.5,1]}]\n",
    "\n",
    "classifiers= [(LogisticRegression(), model_names[0], param_grid_lr),\n",
    "              (LinearDiscriminantAnalysis(), model_names[1], param_grid_lda),\n",
    "              (SVC(gamma='auto',probability=True),model_names[2],param_grid_svm),\n",
    "            (neighbors.KNeighborsClassifier(), model_names[3], param_grid_knn),\n",
    "            (tree.DecisionTreeClassifier(), model_names[4], param_grid_dt),\n",
    "            (RandomForestClassifier(), model_names[5], param_grid_rf),\n",
    "            (GradientBoostingClassifier(), model_names[6], param_grid_gb),\n",
    "             (LGBMClassifier(),model_names[7],param_grid_lgb)]\n",
    "\n",
    "\n",
    "\n",
    "def evaluate_model(X_train,X_test,y_train, y_test, model, model_name, params):   \n",
    "    grid_search = GridSearchCV(model, params, cv=5,n_jobs=-1,scoring='roc_auc') \n",
    "    grid_search.fit(X_train,y_train)\n",
    "       \n",
    "    model_selection = grid_search.best_estimator_ \n",
    "    prob = model_selection.predict_proba(X_test)\n",
    "    pred = prob[:,1]\n",
    "    fpr, tpr, threshold = roc_curve(y_test, pred)\n",
    "    AUC = auc(fpr, tpr)\n",
    "    model_dic = {} \n",
    "    model_dic['Classifier'] = model_name \n",
    "    model_dic['Best Parameter'] = grid_search.best_estimator_.get_params()\n",
    "    model_dic['CV AUC'] = grid_search.best_score_ \n",
    "    model_dic['Overall AUC'] = AUC\n",
    "    return model_dic\n",
    "  \n"
   ]
  },
  {
   "cell_type": "code",
   "execution_count": 43,
   "metadata": {},
   "outputs": [
    {
     "data": {
      "text/html": [
       "<div>\n",
       "<style scoped>\n",
       "    .dataframe tbody tr th:only-of-type {\n",
       "        vertical-align: middle;\n",
       "    }\n",
       "\n",
       "    .dataframe tbody tr th {\n",
       "        vertical-align: top;\n",
       "    }\n",
       "\n",
       "    .dataframe thead th {\n",
       "        text-align: right;\n",
       "    }\n",
       "</style>\n",
       "<table border=\"1\" class=\"dataframe\">\n",
       "  <thead>\n",
       "    <tr style=\"text-align: right;\">\n",
       "      <th></th>\n",
       "      <th>Classifier</th>\n",
       "      <th>Best Parameter</th>\n",
       "      <th>CV AUC</th>\n",
       "      <th>Overall AUC</th>\n",
       "    </tr>\n",
       "  </thead>\n",
       "  <tbody>\n",
       "    <tr>\n",
       "      <th>0</th>\n",
       "      <td>DT</td>\n",
       "      <td>{'ccp_alpha': 0.0, 'class_weight': None, 'crit...</td>\n",
       "      <td>0.754654</td>\n",
       "      <td>0.755777</td>\n",
       "    </tr>\n",
       "    <tr>\n",
       "      <th>1</th>\n",
       "      <td>GB</td>\n",
       "      <td>{'ccp_alpha': 0.0, 'criterion': 'friedman_mse'...</td>\n",
       "      <td>0.796575</td>\n",
       "      <td>0.794424</td>\n",
       "    </tr>\n",
       "    <tr>\n",
       "      <th>2</th>\n",
       "      <td>KNN</td>\n",
       "      <td>{'algorithm': 'auto', 'leaf_size': 30, 'metric...</td>\n",
       "      <td>0.714300</td>\n",
       "      <td>0.719738</td>\n",
       "    </tr>\n",
       "    <tr>\n",
       "      <th>3</th>\n",
       "      <td>LDA</td>\n",
       "      <td>{'n_components': None, 'priors': None, 'shrink...</td>\n",
       "      <td>0.796249</td>\n",
       "      <td>0.795001</td>\n",
       "    </tr>\n",
       "    <tr>\n",
       "      <th>4</th>\n",
       "      <td>LGB</td>\n",
       "      <td>{'boosting_type': 'goss', 'class_weight': None...</td>\n",
       "      <td>0.796196</td>\n",
       "      <td>0.795756</td>\n",
       "    </tr>\n",
       "    <tr>\n",
       "      <th>5</th>\n",
       "      <td>LR</td>\n",
       "      <td>{'C': 1, 'class_weight': None, 'dual': False, ...</td>\n",
       "      <td>0.796323</td>\n",
       "      <td>0.794615</td>\n",
       "    </tr>\n",
       "    <tr>\n",
       "      <th>6</th>\n",
       "      <td>RF</td>\n",
       "      <td>{'bootstrap': True, 'ccp_alpha': 0.0, 'class_w...</td>\n",
       "      <td>0.790762</td>\n",
       "      <td>0.794214</td>\n",
       "    </tr>\n",
       "    <tr>\n",
       "      <th>7</th>\n",
       "      <td>SVM</td>\n",
       "      <td>{'C': 0.5, 'break_ties': False, 'cache_size': ...</td>\n",
       "      <td>0.790268</td>\n",
       "      <td>0.787654</td>\n",
       "    </tr>\n",
       "  </tbody>\n",
       "</table>\n",
       "</div>"
      ],
      "text/plain": [
       "  Classifier                                     Best Parameter    CV AUC  \\\n",
       "0         DT  {'ccp_alpha': 0.0, 'class_weight': None, 'crit...  0.754654   \n",
       "1         GB  {'ccp_alpha': 0.0, 'criterion': 'friedman_mse'...  0.796575   \n",
       "2        KNN  {'algorithm': 'auto', 'leaf_size': 30, 'metric...  0.714300   \n",
       "3        LDA  {'n_components': None, 'priors': None, 'shrink...  0.796249   \n",
       "4        LGB  {'boosting_type': 'goss', 'class_weight': None...  0.796196   \n",
       "5         LR  {'C': 1, 'class_weight': None, 'dual': False, ...  0.796323   \n",
       "6         RF  {'bootstrap': True, 'ccp_alpha': 0.0, 'class_w...  0.790762   \n",
       "7        SVM  {'C': 0.5, 'break_ties': False, 'cache_size': ...  0.790268   \n",
       "\n",
       "   Overall AUC  \n",
       "0     0.755777  \n",
       "1     0.794424  \n",
       "2     0.719738  \n",
       "3     0.795001  \n",
       "4     0.795756  \n",
       "5     0.794615  \n",
       "6     0.794214  \n",
       "7     0.787654  "
      ]
     },
     "execution_count": 43,
     "metadata": {},
     "output_type": "execute_result"
    }
   ],
   "source": [
    "res_list = []\n",
    "for i in range(len(classifiers)):\n",
    "    if i<4:\n",
    "        #scale data\n",
    "        scaler = MinMaxScaler()\n",
    "        X_train = scaler.fit_transform(X_train)\n",
    "        X_test= scaler.transform(X_test)\n",
    "        res_list.append(evaluate_model(X_train,X_test,y_train, y_test, classifiers[i][0], classifiers[i][1], classifiers[i][2]))\n",
    "    else:\n",
    "        res_list.append(evaluate_model(X_train,X_test,y_train, y_test, classifiers[i][0], classifiers[i][1], classifiers[i][2]))\n",
    "    \n",
    "result_table = pd.DataFrame(res_list).sort_values(by=['Classifier']).reset_index(drop=True)\n",
    "    \n",
    "    \n",
    "result_table"
   ]
  },
  {
   "cell_type": "code",
   "execution_count": 44,
   "metadata": {
    "scrolled": true
   },
   "outputs": [
    {
     "data": {
      "text/plain": [
       "{'boosting_type': 'goss',\n",
       " 'class_weight': None,\n",
       " 'colsample_bytree': 1.0,\n",
       " 'importance_type': 'split',\n",
       " 'learning_rate': 0.052,\n",
       " 'max_depth': 5,\n",
       " 'min_child_samples': 20,\n",
       " 'min_child_weight': 0.001,\n",
       " 'min_split_gain': 0.0,\n",
       " 'n_estimators': 100,\n",
       " 'n_jobs': -1,\n",
       " 'num_leaves': 10,\n",
       " 'objective': 'binary',\n",
       " 'random_state': None,\n",
       " 'reg_alpha': 0.0,\n",
       " 'reg_lambda': 0.0,\n",
       " 'silent': True,\n",
       " 'subsample': 1.0,\n",
       " 'subsample_for_bin': 200000,\n",
       " 'subsample_freq': 0,\n",
       " 'metric': 'binary_logloss'}"
      ]
     },
     "execution_count": 44,
     "metadata": {},
     "output_type": "execute_result"
    }
   ],
   "source": [
    "result_table.iloc[4,1]"
   ]
  },
  {
   "cell_type": "code",
   "execution_count": 48,
   "metadata": {},
   "outputs": [],
   "source": [
    "def plot(model, plotROC=False):\n",
    "    model.fit(X_train, y_train)\n",
    "    prob = model.predict_proba(X_test)\n",
    "    pred = prob[:,1]\n",
    "    fpr, tpr, threshold = roc_curve(y_test, pred)\n",
    "    roc_auc = auc(fpr, tpr)\n",
    "    print(f'AUC: {roc_auc:.4f}')\n",
    "    \n",
    "    # Find optimal threshold\n",
    "    rocDf = pd.DataFrame({'fpr': fpr, 'tpr':tpr, 'threshold':threshold})\n",
    "    rocDf['tpr - fpr'] = rocDf.tpr - rocDf.fpr\n",
    "    optimalthreshold = rocDf.threshold[rocDf['tpr - fpr'].idxmax()]\n",
    "    \n",
    "    \n",
    "    # Get accuracy over the test set\n",
    "    y_pred = np.where(pred >= optimalthreshold, 1, 0)\n",
    "    accuracy = accuracy_score(y_test, y_pred)\n",
    "    print(f'Accuracy: {accuracy*100:.2f}%')\n",
    "    \n",
    "    # Plot ROC AUC\n",
    "    if plotROC:\n",
    "        plt.title('AUC_ROC')\n",
    "        plt.plot(fpr, tpr, 'b', label = 'AUC = %0.2f' % roc_auc)\n",
    "        plt.legend(loc = 'lower right')\n",
    "        plt.plot([0, 1], [0, 1],'r--')\n",
    "        plt.xlim([0, 1])\n",
    "        plt.ylim([0, 1])\n",
    "        plt.ylabel('True Positive Rate')\n",
    "        plt.xlabel('False Positive Rate')\n",
    "        plt.show()"
   ]
  },
  {
   "cell_type": "code",
   "execution_count": 49,
   "metadata": {},
   "outputs": [
    {
     "name": "stdout",
     "output_type": "stream",
     "text": [
      "AUC: 0.7958\n",
      "Accuracy: 72.75%\n"
     ]
    },
    {
     "data": {
      "image/png": "[encoded data removed]",
      "text/plain": [
       "<Figure size 432x288 with 1 Axes>"
      ]
     },
     "metadata": {
      "needs_background": "light"
     },
     "output_type": "display_data"
    }
   ],
   "source": [
    "lgb_model = LGBMClassifier(learning_rate=0.052, objective='binary',metric='binary_logloss',\n",
    "                       boosting_type='goss', max_depth=5, num_leaves=10)\n",
    "plot(lgb_model,plotROC=True)"
   ]
  },
  {
   "cell_type": "code",
   "execution_count": 51,
   "metadata": {},
   "outputs": [
    {
     "data": {
      "text/html": [
       "<div>\n",
       "<style scoped>\n",
       "    .dataframe tbody tr th:only-of-type {\n",
       "        vertical-align: middle;\n",
       "    }\n",
       "\n",
       "    .dataframe tbody tr th {\n",
       "        vertical-align: top;\n",
       "    }\n",
       "\n",
       "    .dataframe thead th {\n",
       "        text-align: right;\n",
       "    }\n",
       "</style>\n",
       "<table border=\"1\" class=\"dataframe\">\n",
       "  <thead>\n",
       "    <tr style=\"text-align: right;\">\n",
       "      <th></th>\n",
       "      <th>imp</th>\n",
       "      <th>name</th>\n",
       "    </tr>\n",
       "  </thead>\n",
       "  <tbody>\n",
       "    <tr>\n",
       "      <th>0</th>\n",
       "      <td>116</td>\n",
       "      <td>Column_0</td>\n",
       "    </tr>\n",
       "    <tr>\n",
       "      <th>4</th>\n",
       "      <td>92</td>\n",
       "      <td>Column_4</td>\n",
       "    </tr>\n",
       "    <tr>\n",
       "      <th>3</th>\n",
       "      <td>88</td>\n",
       "      <td>Column_3</td>\n",
       "    </tr>\n",
       "    <tr>\n",
       "      <th>15</th>\n",
       "      <td>74</td>\n",
       "      <td>Column_15</td>\n",
       "    </tr>\n",
       "    <tr>\n",
       "      <th>1</th>\n",
       "      <td>63</td>\n",
       "      <td>Column_1</td>\n",
       "    </tr>\n",
       "    <tr>\n",
       "      <th>...</th>\n",
       "      <td>...</td>\n",
       "      <td>...</td>\n",
       "    </tr>\n",
       "    <tr>\n",
       "      <th>44</th>\n",
       "      <td>0</td>\n",
       "      <td>Column_44</td>\n",
       "    </tr>\n",
       "    <tr>\n",
       "      <th>43</th>\n",
       "      <td>0</td>\n",
       "      <td>Column_43</td>\n",
       "    </tr>\n",
       "    <tr>\n",
       "      <th>42</th>\n",
       "      <td>0</td>\n",
       "      <td>Column_42</td>\n",
       "    </tr>\n",
       "    <tr>\n",
       "      <th>41</th>\n",
       "      <td>0</td>\n",
       "      <td>Column_41</td>\n",
       "    </tr>\n",
       "    <tr>\n",
       "      <th>101</th>\n",
       "      <td>0</td>\n",
       "      <td>Column_101</td>\n",
       "    </tr>\n",
       "  </tbody>\n",
       "</table>\n",
       "<p>102 rows × 2 columns</p>\n",
       "</div>"
      ],
      "text/plain": [
       "     imp        name\n",
       "0    116    Column_0\n",
       "4     92    Column_4\n",
       "3     88    Column_3\n",
       "15    74   Column_15\n",
       "1     63    Column_1\n",
       "..   ...         ...\n",
       "44     0   Column_44\n",
       "43     0   Column_43\n",
       "42     0   Column_42\n",
       "41     0   Column_41\n",
       "101    0  Column_101\n",
       "\n",
       "[102 rows x 2 columns]"
      ]
     },
     "execution_count": 51,
     "metadata": {},
     "output_type": "execute_result"
    }
   ],
   "source": [
    "imp=pd.DataFrame()\n",
    "imp['imp'] = lgb_model.feature_importances_\n",
    "imp['name'] = lgb_model.feature_name_ \n",
    "imp=imp.sort_values(by=['imp'],ascending=False)\n",
    "imp\n"
   ]
  },
  {
   "cell_type": "code",
   "execution_count": 52,
   "metadata": {},
   "outputs": [
    {
     "name": "stdout",
     "output_type": "stream",
     "text": [
      "ExternalRiskEstimate\n",
      "NumSatisfactoryTrades\n",
      "AverageMInFile\n",
      "NetFractionRevolvingBurden\n",
      "MSinceOldestTradeOpen\n"
     ]
    }
   ],
   "source": [
    "for i in X.columns[[0,4,3,15,1]]:\n",
    "    print(i)"
   ]
  }
 ],
 "metadata": {
  "kernelspec": {
   "display_name": "Python 3",
   "language": "python",
   "name": "python3"
  },
  "language_info": {
   "codemirror_mode": {
    "name": "ipython",
    "version": 3
   },
   "file_extension": ".py",
   "mimetype": "text/x-python",
   "name": "python",
   "nbconvert_exporter": "python",
   "pygments_lexer": "ipython3",
   "version": "3.8.3"
  }
 },
 "nbformat": 4,
 "nbformat_minor": 1
}
